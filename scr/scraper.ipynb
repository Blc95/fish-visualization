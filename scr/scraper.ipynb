{
 "cells": [
  {
   "cell_type": "code",
   "execution_count": 1,
   "metadata": {},
   "outputs": [],
   "source": [
    "from bs4 import BeautifulSoup\n",
    "import requests\n",
    "from selenium import webdriver\n",
    "from bs4 import BeautifulSoup\n",
    "import pandas as pd\n",
    "import time\n",
    "from selenium import webdriver\n",
    "from selenium.webdriver.common.by import By\n",
    "from selenium.webdriver.support.ui import WebDriverWait, Select\n",
    "from selenium.webdriver.support import expected_conditions as EC\n"
   ]
  },
  {
   "cell_type": "code",
   "execution_count": 7,
   "metadata": {},
   "outputs": [],
   "source": [
    "# Set up Selenium WebDriver\n",
    "driver = webdriver.Chrome()  # Ensure chromedriver is in PATH\n",
    "\n",
    "# Open the target website\n",
    "# IMPORTANT: This scraper relies on the current structure (HTML/DOM layout) of the page.\n",
    "# If the site is updated or built differently, the code may not work without adjustments.\n",
    "url = 'https://fangstjournalen.dtu.dk/fangst.nsf/iframe.xsp?open&assoc=546F2600F0210439C12585450030B71E&type=1'  # Replace with the URL you wish to scrape\n",
    "driver.get(url)\n",
    "time.sleep(5)  # Wait for the page to fully load (adjust if necessary)"
   ]
  },
  {
   "cell_type": "code",
   "execution_count": 6,
   "metadata": {},
   "outputs": [
    {
     "name": "stdout",
     "output_type": "stream",
     "text": [
      "Selected year: 2025\n",
      "Selected year: @\n",
      "Data saved to fish_data_all_years.csv\n"
     ]
    }
   ],
   "source": [
    "# List to accumulate all years' data\n",
    "all_data = []\n",
    "\n",
    "# Locate the dropdown menu element and get all options\n",
    "dropdown = WebDriverWait(driver, 10).until(EC.presence_of_element_located((By.XPATH, '//*[@id=\"sYear\"]')))\n",
    "select = Select(dropdown)\n",
    "years = [option.get_attribute(\"value\") for option in select.options if option.get_attribute(\"value\")]\n",
    "\n",
    "# Loop through each year option in the dropdown menu\n",
    "for year in years:\n",
    "    # Skip the \"-\" option (which might represent \"All years\" or an empty selection)\n",
    "    if year == \"-\":\n",
    "        continue\n",
    "    \n",
    "    # Select the year in the dropdown menu\n",
    "    select.select_by_value(year)\n",
    "    print(f\"Selected year: {year}\")\n",
    "\n",
    "    # Wait for the table to reload or data to refresh after selecting a year\n",
    "    WebDriverWait(driver, 10).until(EC.presence_of_element_located((By.XPATH, '//*[@id=\"table_div\"]/div/div/table/tbody')))\n",
    "\n",
    "    # Locate the table body\n",
    "    table_body = driver.find_element(By.XPATH, '//*[@id=\"table_div\"]/div/div/table/tbody')\n",
    "\n",
    "    # Initialize a list to store each row of data for the current year\n",
    "    data = []\n",
    "\n",
    "    # Loop through each row in the table body\n",
    "    rows = table_body.find_elements(By.TAG_NAME, 'tr')\n",
    "    for row in rows:\n",
    "        # Get all cells in the row\n",
    "        cells = row.find_elements(By.TAG_NAME, 'td')\n",
    "        # Extract text from each cell and handle any missing values with a default value 'N/A'\n",
    "        row_data = [cell.text.strip() if cell.text.strip() != '' else 'N/A' for cell in cells]\n",
    "        data.append(row_data)\n",
    "\n",
    "    # Append the current year's data to all_data\n",
    "    all_data.extend(data)\n",
    "\n",
    "# Close the browser\n",
    "driver.quit()\n",
    "\n",
    "# Define column names based on table structure\n",
    "column_names = ['Date', 'Species', 'Water Body', 'Zone', 'Name', 'Length', 'Weight', \n",
    "                'Bait', 'Retained', 'Sex', 'Adipose fin clipped', 'Photo']\n",
    "\n",
    "# Convert all_data to a DataFrame\n",
    "df = pd.DataFrame(all_data, columns=column_names)\n",
    "\n",
    "# Save the DataFrame to a CSV file\n",
    "df.to_csv('holested_sneum-lystfisker.csv', index=False)\n",
    "print(\"Data saved to fish_data_all_years.csv\")\n"
   ]
  }
 ],
 "metadata": {
  "kernelspec": {
   "display_name": "base",
   "language": "python",
   "name": "python3"
  },
  "language_info": {
   "codemirror_mode": {
    "name": "ipython",
    "version": 3
   },
   "file_extension": ".py",
   "mimetype": "text/x-python",
   "name": "python",
   "nbconvert_exporter": "python",
   "pygments_lexer": "ipython3",
   "version": "3.12.7"
  }
 },
 "nbformat": 4,
 "nbformat_minor": 2
}
